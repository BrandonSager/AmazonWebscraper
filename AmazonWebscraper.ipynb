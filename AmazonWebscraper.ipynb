{
 "cells": [
  {
   "cell_type": "code",
   "execution_count": 1,
   "id": "bbfb5d27",
   "metadata": {},
   "outputs": [],
   "source": [
    "from bs4 import BeautifulSoup\n",
    "import requests\n",
    "import time\n",
    "import datetime\n",
    "\n",
    "import smtplib"
   ]
  },
  {
   "cell_type": "code",
   "execution_count": 7,
   "id": "82ed5691",
   "metadata": {},
   "outputs": [
    {
     "name": "stdout",
     "output_type": "stream",
     "text": [
      "\n",
      "            2021 Newest HP 15.6\" FHD Touch-Screen Laptop, AMD Ryzen 7 4700U 8-Core(up to 4.1, Beat i7-1185G7), 16GB RAM, 512GB PCIe SSD, AMD Radeon Graphics, Webcam, HDMI, WiFi, Win10 S,w/Ghost Manta Accessories\n",
      "           \n",
      "\n",
      "               $799.99\n",
      "              \n"
     ]
    }
   ],
   "source": [
    "URL = 'https://www.amazon.com/HP-Touch-Screen-i7-1185G7-Graphics-Accessories/dp/B09B1PYPWD/ref=sr_1_4?dchild=1&keywords=laptop&qid=1634230757&refinements=p_n_feature_four_browse-bin%3A18107802011&rnid=676578011&s=pc&sr=1-4&th=1'\n",
    "\n",
    "headers = {\"User-Agent\": \"Mozilla/5.0 (Windows NT 10.0; Win64; x64) AppleWebKit/537.36 (KHTML, like Gecko) Chrome/94.0.4604.81 Safari/537.36\", \n",
    "           \"Accept-Encoding\":\"gzip, deflate\", \"Accept\":\"text/html,application/xhtml+xml,application/xml;q=0.9,*/*;q=0.8\", \"DNT\":\"1\",\"Connection\":\"close\", \n",
    "           \"Upgrade-Insecure-Requests\":\"1\"}\n",
    "\n",
    "page = requests.get(URL, headers=headers)\n",
    "\n",
    "soup1 = BeautifulSoup(page.content, \"html.parser\")\n",
    "\n",
    "soup2 = BeautifulSoup(soup1.prettify(), \"html.parser\")\n",
    "\n",
    "title = soup2.find(id='productTitle').get_text()\n",
    "\n",
    "price = soup2.find(id='priceblock_ourprice').get_text()\n",
    "\n",
    "\n",
    "print(title)\n",
    "print(price)"
   ]
  },
  {
   "cell_type": "code",
   "execution_count": 11,
   "id": "08cedfed",
   "metadata": {},
   "outputs": [
    {
     "data": {
      "text/plain": [
       "'2021 Newest HP 15.6\" FHD Touch-Screen Laptop, AMD Ryzen 7 4700U 8-Core(up to 4.1, Beat i7-1185G7), 16GB RAM, 512GB PCIe SSD, AMD Radeon Graphics, Webcam, HDMI, WiFi, Win10 S,w/Ghost Manta Accessories'"
      ]
     },
     "execution_count": 11,
     "metadata": {},
     "output_type": "execute_result"
    }
   ],
   "source": [
    "title1 = title.strip()\n",
    "title1"
   ]
  },
  {
   "cell_type": "code",
   "execution_count": 10,
   "id": "9c96ed7f",
   "metadata": {},
   "outputs": [
    {
     "data": {
      "text/plain": [
       "'$799.99'"
      ]
     },
     "execution_count": 10,
     "metadata": {},
     "output_type": "execute_result"
    }
   ],
   "source": [
    "price1 = price.strip()\n",
    "price1"
   ]
  },
  {
   "cell_type": "code",
   "execution_count": 12,
   "id": "436c9d95",
   "metadata": {},
   "outputs": [
    {
     "name": "stdout",
     "output_type": "stream",
     "text": [
      "2021-10-14\n"
     ]
    }
   ],
   "source": [
    "today = datetime.date.today()\n",
    "\n",
    "print(today)"
   ]
  },
  {
   "cell_type": "code",
   "execution_count": 13,
   "id": "5898d206",
   "metadata": {},
   "outputs": [],
   "source": [
    "import csv \n",
    "\n",
    "header = ['Title', 'Price', 'Date']\n",
    "data = [title, price, today]"
   ]
  },
  {
   "cell_type": "code",
   "execution_count": 14,
   "id": "07ed5655",
   "metadata": {},
   "outputs": [],
   "source": [
    "with open('MyLaptopScraper.csv', 'w', newline='', encoding='UTF8') as f:\n",
    "    writer = csv.writer(f)\n",
    "    writer.writerow(header)\n",
    "    writer.writerow(data)"
   ]
  },
  {
   "cell_type": "code",
   "execution_count": 15,
   "id": "e83064cd",
   "metadata": {},
   "outputs": [
    {
     "name": "stdout",
     "output_type": "stream",
     "text": [
      "                                               Title  \\\n",
      "0  \\n            2021 Newest HP 15.6\" FHD Touch-S...   \n",
      "\n",
      "                                      Price        Date  \n",
      "0  \\n               $799.99\\n                2021-10-14  \n"
     ]
    }
   ],
   "source": [
    "import pandas as pd\n",
    "\n",
    "df = pd.read_csv(r'C:\\Users\\mirid\\MyLaptopScraper.csv')\n",
    "\n",
    "print(df)"
   ]
  },
  {
   "cell_type": "code",
   "execution_count": 16,
   "id": "96372d95",
   "metadata": {},
   "outputs": [],
   "source": [
    "with open('MyLaptopScraper.csv', 'a+', newline='', encoding='UTF8') as f:\n",
    "    writer = csv.writer(f)\n",
    "    writer.writerow(data)"
   ]
  },
  {
   "cell_type": "code",
   "execution_count": 18,
   "id": "594e448e",
   "metadata": {},
   "outputs": [],
   "source": [
    "def laptop_price_scraper():\n",
    "    \n",
    "    from bs4 import BeautifulSoup\n",
    "    import requests\n",
    "    import time\n",
    "    import datetime\n",
    "    import csv\n",
    "    \n",
    "    URL = 'https://www.amazon.com/HP-Touch-Screen-i7-1185G7-Graphics-Accessories/dp/B09B1PYPWD/ref=sr_1_4?dchild=1&keywords=laptop&qid=1634230757&refinements=p_n_feature_four_browse-bin%3A18107802011&rnid=676578011&s=pc&sr=1-4&th=1'\n",
    "\n",
    "    hDeeaders = {\"User-Agent\": \"Mozilla/5.0 (Windows NT 10.0; Win64; x64) AppleWebKit/537.36 (KHTML, like Gecko) Chrome/94.0.4604.81 Safari/537.36\", \n",
    "               \"Accept-Encoding\":\"gzip, deflate\", \"Accept\":\"text/html,application/xhtml+xml,application/xml;q=0.9,*/*;q=0.8\", \"DNT\":\"1\",\"Connection\":\"close\", \n",
    "               \"Upgrade-Insecure-Requests\":\"1\"}\n",
    "\n",
    "    page = requests.get(URL, headers=headers)\n",
    "\n",
    "    soup1 = BeautifulSoup(page.content, \"html.parser\")\n",
    "    soup2 = BeautifulSoup(soup1.prettify(), \"html.parser\")\n",
    "\n",
    "    title = soup2.find(id='productTitle').get_text()\n",
    "    price = soup2.find(id='priceblock_ourprice').get_text()\n",
    "    \n",
    "    title1 = title.strip()\n",
    "    title1\n",
    "    price1 = price.strip()\n",
    "    price1\n",
    "    \n",
    "    today = datetime.date.today()\n",
    "\n",
    "    header = ['Title', 'Price', 'Date']\n",
    "    data = [title, price, today]\n",
    "    \n",
    "    with open('MyLaptopScraper.csv', 'w', newline='', encoding='UTF8') as f:\n",
    "        writer = csv.writer(f)\n",
    "        writer.writerow(data)"
   ]
  },
  {
   "cell_type": "code",
   "execution_count": null,
   "id": "ebc2f8c1",
   "metadata": {},
   "outputs": [],
   "source": [
    "while(True):\n",
    "    check_price()\n",
    "    time.sleep(86400)"
   ]
  },
  {
   "cell_type": "code",
   "execution_count": null,
   "id": "420ab1ef",
   "metadata": {},
   "outputs": [],
   "source": []
  }
 ],
 "metadata": {
  "kernelspec": {
   "display_name": "Python 3",
   "language": "python",
   "name": "python3"
  },
  "language_info": {
   "codemirror_mode": {
    "name": "ipython",
    "version": 3
   },
   "file_extension": ".py",
   "mimetype": "text/x-python",
   "name": "python",
   "nbconvert_exporter": "python",
   "pygments_lexer": "ipython3",
   "version": "3.8.8"
  }
 },
 "nbformat": 4,
 "nbformat_minor": 5
}
